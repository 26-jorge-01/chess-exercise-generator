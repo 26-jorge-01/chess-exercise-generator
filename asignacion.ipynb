{
 "cells": [
  {
   "cell_type": "markdown",
   "metadata": {},
   "source": [
    "# Tratamiento de los datos usados en el generador de ejercicios de ajedrez"
   ]
  },
  {
   "cell_type": "markdown",
   "metadata": {},
   "source": [
    "### Librerías"
   ]
  },
  {
   "cell_type": "code",
   "execution_count": 10,
   "metadata": {},
   "outputs": [],
   "source": [
    "import pandas as pd\n",
    "import os"
   ]
  },
  {
   "cell_type": "markdown",
   "metadata": {},
   "source": [
    "### Lectura del archivo base\n",
    "\n",
    "Archivo tomado de [puzzles](https://database.lichess.org/#puzzles) de Lichess."
   ]
  },
  {
   "cell_type": "code",
   "execution_count": 6,
   "metadata": {},
   "outputs": [],
   "source": [
    "data = pd.read_parquet('data/lichess_db_puzzle.parquet')"
   ]
  },
  {
   "cell_type": "markdown",
   "metadata": {},
   "source": [
    "### Creación de segmentaciones"
   ]
  },
  {
   "cell_type": "code",
   "execution_count": 3,
   "metadata": {},
   "outputs": [],
   "source": [
    "data['Category'] = ''\n",
    "\n",
    "# Complementar las asignaciones de categorías\n",
    "data.loc[(data['Category'] == '') & (data['Themes'].str.contains('advantage endgame rookEndgame short')), 'Category'] = 'Finals'\n",
    "data.loc[(data['Category'] == '') & (data['Themes'].str.contains('advantage endgame short')), 'Category'] = 'Finals'\n",
    "data.loc[(data['Category'] == '') & (data['Themes'].str.contains('advantage hangingPiece middlegame short')), 'Category'] = 'Tactics'\n",
    "data.loc[(data['Category'] == '') & (data['Themes'].str.contains('advantage master middlegame short')), 'Category'] = 'Strategy'\n",
    "data.loc[(data['Category'] == '') & (data['Themes'].str.contains('crushing endgame exposedKing long skewer')), 'Category'] = 'Tactics'\n",
    "data.loc[(data['Category'] == '') & (data['Themes'].str.contains('crushing endgame long')), 'Category'] = 'Finals'\n",
    "data.loc[(data['Category'] == '') & (data['Themes'].str.contains('crushing endgame long pawnEndgame')), 'Category'] = 'Finals'\n",
    "data.loc[(data['Category'] == '') & (data['Themes'].str.contains('crushing endgame short trappedPiece')), 'Category'] = 'Tactics'\n",
    "data.loc[(data['Category'] == '') & (data['Themes'].str.contains('crushing hangingPiece long middlegame')), 'Category'] = 'Tactics'\n",
    "data.loc[(data['Category'] == '') & (data['Themes'].str.contains('mate mateIn2 middlegame short')), 'Category'] = 'Mate Patterns'\n",
    "data.loc[(data['Category'] == '') & (data['Themes'].str.contains('advantage middlegame short')), 'Category'] = 'Strategy'\n",
    "data.loc[(data['Category'] == '') & (data['Themes'].str.contains('endgame mate mateIn2 short')), 'Category'] = 'Finals'\n",
    "data.loc[(data['Category'] == '') & (data['Themes'].str.contains('crushing middlegame short')), 'Category'] = 'Attacks'\n",
    "data.loc[(data['Category'] == '') & (data['Themes'].str.contains('mate mateIn1 middlegame oneMove')), 'Category'] = 'Mate Patterns'\n",
    "data.loc[(data['Category'] == '') & (data['Themes'].str.contains('endgame mate mateIn1 oneMove')), 'Category'] = 'Finals'\n",
    "data.loc[(data['Category'] == '') & (data['Themes'].str.contains('crushing endgame short')), 'Category'] = 'Attacks'\n",
    "data.loc[(data['Category'] == '') & (data['Themes'].str.contains('crushing endgame fork short')), 'Category'] = 'Tactics'\n",
    "data.loc[(data['Category'] == '') & (data['Themes'].str.contains('advantage long middlegame')), 'Category'] = 'Strategy'\n",
    "data.loc[(data['Category'] == '') & (data['Themes'].str.contains('kingsideAttack mate mateIn1 middlegame oneMove')), 'Category'] = 'Mate Patterns'\n",
    "data.loc[(data['Category'] == '') & (data['Themes'].str.contains('advantage fork middlegame short')), 'Category'] = 'Tactics'\n",
    "data.loc[(data['Category'] == '') & (data['Themes'].str.contains('crushing fork middlegame short')), 'Category'] = 'Tactics'\n",
    "data.loc[(data['Category'] == '') & (data['Themes'].str.contains('crushing long middlegame')), 'Category'] = 'Attacks'\n",
    "data.loc[(data['Category'] == '') & (data['Themes'].str.contains('advantage endgame fork short')), 'Category'] = 'Tactics'\n",
    "data.loc[(data['Category'] == '') & (data['Themes'].str.contains('endgame master mate mateIn1 oneMove')), 'Category'] = 'Finals'\n",
    "data.loc[(data['Category'] == '') & (data['Themes'].str.contains('crushing endgame master short')), 'Category'] = 'Attacks'\n",
    "data.loc[(data['Category'] == '') & (data['Themes'].str.contains('advantage opening short')), 'Category'] = 'Strategy'\n",
    "data.loc[(data['Category'] == '') & (data['Themes'].str.contains('crushing master middlegame short')), 'Category'] = 'Attacks'\n",
    "data.loc[(data['Category'] == '') & (data['Themes'].str.contains('advantage endgame long')), 'Category'] = 'Finals'\n",
    "data.loc[(data['Category'] == '') & (data['Themes'].str.contains('crushing endgame fork master short')), 'Category'] = 'Tactics'\n",
    "data.loc[(data['Category'] == '') & (data['Themes'].str.contains('crushing discoveredAttack middlegame short')), 'Category'] = 'Tactics'\n",
    "data.loc[(data['Category'] == '') & (data['Themes'].str.contains('endgame')), 'Category'] = 'Finals'\n",
    "data.loc[(data['Category'] == '') & (data['Themes'].str.contains('advantage fork long middlegame')), 'Category'] = 'Tactics'\n",
    "data.loc[(data['Category'] == '') & (data['Themes'].str.contains('advantage discoveredAttack middlegame short')), 'Category'] = 'Tactics'\n",
    "data.loc[(data['Category'] == '') & (data['Themes'].str.contains('crushing middlegame pin short')), 'Category'] = 'Tactics'\n",
    "data.loc[(data['Category'] == '') & (data['Themes'].str.contains('advantage middlegame pin short')), 'Category'] = 'Tactics'\n",
    "data.loc[(data['Category'] == '') & (data['Themes'].str.contains('crushing endgame rookEndgame short')), 'Category'] = 'Finals'\n",
    "data.loc[(data['Category'] == '') & (data['Themes'].str.contains('mate mateIn1 oneMove opening')), 'Category'] = 'Mate Patterns'\n",
    "data.loc[(data['Category'] == '') & (data['Themes'].str.contains('middlegame')), 'Category'] = 'Strategy'\n",
    "data.loc[(data['Category'] == '') & (data['Themes'].str.contains('crushing endgame fork long')), 'Category'] = 'Tactics'\n",
    "data.loc[(data['Category'] == '') & (data['Themes'].str.contains('endgame mate mateIn2 rookEndgame short')), 'Category'] = 'Finals'\n",
    "data.loc[(data['Category'] == '') & (data['Themes'].str.contains('advantage fork opening short')), 'Category'] = 'Tactics'\n",
    "data.loc[(data['Category'] == '') & (data['Themes'].str.contains('crushing opening short')), 'Category'] = 'Attacks'\n",
    "data.loc[(data['Category'] == '') & (data['Themes'].str.contains('advantage long opening')), 'Category'] = 'Strategy'\n",
    "data.loc[(data['Category'] == '') & (data['Themes'].str.contains('crushing fork opening short')), 'Category'] = 'Tactics'\n",
    "data.loc[(data['Category'] == '') & (data['Themes'].str.contains('advantage fork long opening')), 'Category'] = 'Tactics'\n",
    "data.loc[(data['Category'] == '') & (data['Themes'].str.contains('advantage hangingPiece opening short')), 'Category'] = 'Tactics'\n",
    "data.loc[(data['Category'] == '') & (data['Themes'].str.contains('crushing long opening')), 'Category'] = 'Attacks'\n",
    "data.loc[(data['Category'] == '') & (data['Themes'].str.contains('advantage discoveredAttack opening short')), 'Category'] = 'Tactics'\n",
    "data.loc[(data['Category'] == '') & (data['Themes'].str.contains('mate mateIn2 opening short')), 'Category'] = 'Mate Patterns'\n",
    "data.loc[(data['Category'] == '') & (data['Themes'].str.contains('crushing opening pin short')), 'Category'] = 'Tactics'\n",
    "\n",
    "data.loc[(data['Category'] == ''), 'Category'] = 'Other'\n",
    "\n",
    "data['Themes'] = data['Themes'].str.title()"
   ]
  },
  {
   "cell_type": "code",
   "execution_count": 9,
   "metadata": {},
   "outputs": [
    {
     "data": {
      "text/plain": [
       "Category\n",
       "Finals           1845122\n",
       "Strategy         1245479\n",
       "Mate Patterns     476311\n",
       "Tactics           453585\n",
       "Attacks           448509\n",
       "Other              87994\n",
       "Name: count, dtype: int64"
      ]
     },
     "execution_count": 9,
     "metadata": {},
     "output_type": "execute_result"
    }
   ],
   "source": [
    "data['Category'].value_counts()"
   ]
  },
  {
   "cell_type": "markdown",
   "metadata": {},
   "source": [
    "### Almacenado usando particiones para optimizar la lectura de los datos"
   ]
  },
  {
   "cell_type": "code",
   "execution_count": 9,
   "metadata": {},
   "outputs": [
    {
     "name": "stdout",
     "output_type": "stream",
     "text": [
      "Guardada partición: data/particiones\\Tactics.parquet\n",
      "Guardada partición: data/particiones\\Finals.parquet\n",
      "Guardada partición: data/particiones\\Strategy.parquet\n",
      "Guardada partición: data/particiones\\Mate Patterns.parquet\n",
      "Guardada partición: data/particiones\\Attacks.parquet\n",
      "Guardada partición: data/particiones\\Other.parquet\n"
     ]
    }
   ],
   "source": [
    "# Crear una carpeta para guardar las particiones\n",
    "output_folder = \"data/particiones\"\n",
    "os.makedirs(output_folder, exist_ok=True)\n",
    "\n",
    "# Particionar por categoría y guardar cada partición\n",
    "for category in data['Category'].dropna().unique():\n",
    "    subset = data[data['Category'] == category]\n",
    "    partition_file = os.path.join(output_folder, f\"{category}.parquet\")\n",
    "    subset.to_parquet(partition_file)\n",
    "    print(f\"Guardada partición: {partition_file}\")"
   ]
  },
  {
   "cell_type": "markdown",
   "metadata": {},
   "source": [
    "### División de los datasets más grandes"
   ]
  },
  {
   "cell_type": "code",
   "execution_count": 11,
   "metadata": {},
   "outputs": [],
   "source": [
    "finals = pd.read_parquet('data/particiones/Finals.parquet')\n",
    "strategy = pd.read_parquet('data/particiones/Strategy.parquet')"
   ]
  },
  {
   "cell_type": "code",
   "execution_count": 19,
   "metadata": {},
   "outputs": [
    {
     "name": "stdout",
     "output_type": "stream",
     "text": [
      "Guardadas particiones avanzadas\n",
      "Guardadas particiones principiante/intermedio\n"
     ]
    }
   ],
   "source": [
    "finals[finals['Rating'] > 1800].to_parquet('data/particiones/Finals_avanzado.parquet')\n",
    "strategy[strategy['Rating'] > 1800].to_parquet('data/particiones/Strategy_avanzado.parquet')\n",
    "\n",
    "print(\"Guardadas particiones avanzadas\")\n",
    "\n",
    "finals[finals['Rating'] <= 1800].to_parquet('data/particiones/Finals_principianteIntermedio.parquet')\n",
    "strategy[strategy['Rating'] <= 1800].to_parquet('data/particiones/Strategy_principianteIntermedio.parquet')\n",
    "\n",
    "print(\"Guardadas particiones principiante/intermedio\")"
   ]
  },
  {
   "cell_type": "code",
   "execution_count": null,
   "metadata": {},
   "outputs": [],
   "source": []
  }
 ],
 "metadata": {
  "kernelspec": {
   "display_name": ".venv",
   "language": "python",
   "name": "python3"
  },
  "language_info": {
   "codemirror_mode": {
    "name": "ipython",
    "version": 3
   },
   "file_extension": ".py",
   "mimetype": "text/x-python",
   "name": "python",
   "nbconvert_exporter": "python",
   "pygments_lexer": "ipython3",
   "version": "3.11.9"
  }
 },
 "nbformat": 4,
 "nbformat_minor": 2
}
