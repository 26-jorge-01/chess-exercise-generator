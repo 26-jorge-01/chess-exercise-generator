{
 "cells": [
  {
   "cell_type": "markdown",
   "metadata": {},
   "source": [
    "# Tratamiento de los datos usados en el generador de ejercicios de ajedrez"
   ]
  },
  {
   "cell_type": "markdown",
   "metadata": {},
   "source": [
    "### Librerías"
   ]
  },
  {
   "cell_type": "code",
   "execution_count": 102,
   "metadata": {},
   "outputs": [],
   "source": [
    "import pandas as pd\n",
    "import os"
   ]
  },
  {
   "cell_type": "markdown",
   "metadata": {},
   "source": [
    "### Lectura del archivo base\n",
    "\n",
    "Archivo tomado de [puzzles](https://database.lichess.org/#puzzles) de Lichess."
   ]
  },
  {
   "cell_type": "code",
   "execution_count": 103,
   "metadata": {},
   "outputs": [],
   "source": [
    "data = pd.read_parquet('data/lichess_db_puzzle.parquet')"
   ]
  },
  {
   "cell_type": "markdown",
   "metadata": {},
   "source": [
    "# Creación de categorías por momentos durante la partida"
   ]
  },
  {
   "cell_type": "markdown",
   "metadata": {},
   "source": [
    "## Aperturas"
   ]
  },
  {
   "cell_type": "code",
   "execution_count": 104,
   "metadata": {},
   "outputs": [],
   "source": [
    "openings = data[data['Themes'].str.contains('Opening')]\n",
    "# Fork = La horquilla\n",
    "Fork = openings[openings['Themes'].str.contains('Fork')]\n",
    "# Pin = El clavado\n",
    "Pin = openings[openings['Themes'].str.contains('Pin')]\n",
    "# Discoveredattack = El ataque descubierto\n",
    "Discoveredattack = openings[openings['Themes'].str.contains('Discoveredattack')]\n",
    "# Skewer = La enfilada\n",
    "Skewer = openings[openings['Themes'].str.contains('Skewer')]\n",
    "# Doublecheck = El jaque doble\n",
    "Doublecheck = openings[openings['Themes'].str.contains('Doublecheck')]\n",
    "# Doublecheck, Fork = El doble ataque\n",
    "Doubleattack = openings[(openings['Themes'].str.contains('Doublecheck')) & (openings['Themes'].str.contains('Fork'))]\n",
    "# Intermezzo = El intermedio\n",
    "Intermezzo = openings[openings['Themes'].str.contains('Intermezzo')]\n",
    "# Smotheredmate = El encerramiento\n",
    "Smotheredmate = openings[openings['Themes'].str.contains('Smotheredmate')]\n",
    "# Xrayattack = El ataque de rayos X\n",
    "Xrayattack = openings[openings['Themes'].str.contains('Xrayattack')]\n",
    "# Matein1, Backrankmate = El mate en 1\n",
    "Matein1 = openings[(openings['Themes'].str.contains('Matein1')) | (openings['Themes'].str.contains('Backrankmate'))]\n",
    "# Matein2 = El mate en 2\n",
    "Matein2 = openings[openings['Themes'].str.contains('Matein2')]\n",
    "# Matein3 = El mate en 3\n",
    "Matein3 = openings[openings['Themes'].str.contains('Matein3')]\n",
    "# Others = Otros\n",
    "Others = openings[~(openings['Themes'].str.contains('Fork|Pin|Discoveredattack|Skewer|Doublecheck|Intermezzo|Smotheredmate|Xrayattack|Matein1|Matein2|Matein3'))]"
   ]
  },
  {
   "cell_type": "code",
   "execution_count": 105,
   "metadata": {},
   "outputs": [
    {
     "name": "stdout",
     "output_type": "stream",
     "text": [
      "Openings: 247191 (5.4244 %)\n",
      "- Fork: 44475 (17.9922 %) -> 0.976 %\n",
      "- Pin: 14758 (5.9703 %) -> 0.3239 %\n",
      "- Discoveredattack: 17962 (7.2664 %) -> 0.3942 %\n",
      "- Skewer: 1644 (0.6651 %) -> 0.0361 %\n",
      "- Doublecheck: 1678 (0.6788 %) -> 0.0368 %\n",
      "- Doubleattack: 120 (0.0485 %) -> 0.0026 %\n",
      "- Intermezzo: 5779 (2.3379 %) -> 0.1268 %\n",
      "- Smotheredmate: 3043 (1.231 %) -> 0.0668 %\n",
      "- Xrayattack: 120 (0.0485 %) -> 0.0026 %\n",
      "- Matein1: 45203 (18.2867 %) -> 0.9919 %\n",
      "- Matein2: 11495 (4.6503 %) -> 0.2522 %\n",
      "- Matein3: 1772 (0.7169 %) -> 0.0389 %\n",
      "- Others: 110544 (44.7201 %) -> 2.4258 %\n"
     ]
    }
   ],
   "source": [
    "print(f'Openings: {len(openings)} ({round((len(openings) / len(data) * 100), 4)} %)')\n",
    "print(f'- Fork: {len(Fork)} ({round((len(Fork) / len(openings) * 100), 4)} %) -> {round(len(Fork) / len(data) * 100, 4)} %')\n",
    "print(f'- Pin: {len(Pin)} ({round((len(Pin) / len(openings) * 100), 4)} %) -> {round(len(Pin) / len(data) * 100, 4)} %')\n",
    "print(f'- Discoveredattack: {len(Discoveredattack)} ({round((len(Discoveredattack) / len(openings) * 100), 4)} %) -> {round(len(Discoveredattack) / len(data) * 100, 4)} %')\n",
    "print(f'- Skewer: {len(Skewer)} ({round((len(Skewer) / len(openings) * 100), 4)} %) -> {round(len(Skewer) / len(data) * 100, 4)} %')\n",
    "print(f'- Doublecheck: {len(Doublecheck)} ({round((len(Doublecheck) / len(openings) * 100), 4)} %) -> {round(len(Doublecheck) / len(data) * 100, 4)} %')\n",
    "print(f'- Doubleattack: {len(Doubleattack)} ({round((len(Doubleattack) / len(openings) * 100), 4)} %) -> {round(len(Doubleattack) / len(data) * 100, 4)} %')\n",
    "print(f'- Intermezzo: {len(Intermezzo)} ({round((len(Intermezzo) / len(openings) * 100), 4)} %) -> {round(len(Intermezzo) / len(data) * 100, 4)} %')\n",
    "print(f'- Smotheredmate: {len(Smotheredmate)} ({round((len(Smotheredmate) / len(openings) * 100), 4)} %) -> {round(len(Smotheredmate) / len(data) * 100, 4)} %')\n",
    "print(f'- Xrayattack: {len(Xrayattack)} ({round((len(Xrayattack) / len(openings) * 100), 4)} %) -> {round(len(Xrayattack) / len(data) * 100, 4)} %')\n",
    "print(f'- Matein1: {len(Matein1)} ({round((len(Matein1) / len(openings) * 100), 4)} %) -> {round(len(Matein1) / len(data) * 100, 4)} %')\n",
    "print(f'- Matein2: {len(Matein2)} ({round((len(Matein2) / len(openings) * 100), 4)} %) -> {round(len(Matein2) / len(data) * 100, 4)} %')\n",
    "print(f'- Matein3: {len(Matein3)} ({round((len(Matein3) / len(openings) * 100), 4)} %) -> {round(len(Matein3) / len(data) * 100, 4)} %')\n",
    "print(f'- Others: {len(Others)} ({round((len(Others) / len(openings) * 100), 4)} %) -> {round(len(Others) / len(data) * 100, 4)} %')"
   ]
  },
  {
   "cell_type": "code",
   "execution_count": 106,
   "metadata": {},
   "outputs": [],
   "source": [
    "Fork.to_parquet('data/openings/Fork.parquet')\n",
    "Pin.to_parquet('data/openings/Pin.parquet')\n",
    "Discoveredattack.to_parquet('data/openings/Discoveredattack.parquet')\n",
    "Skewer.to_parquet('data/openings/Skewer.parquet')\n",
    "Doublecheck.to_parquet('data/openings/Doublecheck.parquet')\n",
    "Doubleattack.to_parquet('data/openings/Doubleattack.parquet')\n",
    "Intermezzo.to_parquet('data/openings/Intermezzo.parquet')\n",
    "Smotheredmate.to_parquet('data/openings/Smotheredmate.parquet')\n",
    "Xrayattack.to_parquet('data/openings/Xrayattack.parquet')\n",
    "Matein1.to_parquet('data/openings/Matein1.parquet')\n",
    "Matein2.to_parquet('data/openings/Matein2.parquet')\n",
    "Matein3.to_parquet('data/openings/Matein3.parquet')\n",
    "Others.to_parquet('data/openings/Others.parquet')"
   ]
  },
  {
   "cell_type": "markdown",
   "metadata": {},
   "source": [
    "## En medio de la partida"
   ]
  },
  {
   "cell_type": "code",
   "execution_count": 107,
   "metadata": {},
   "outputs": [],
   "source": [
    "Middlegame = data[data['Themes'].str.contains('Middlegame')]\n",
    "# Fork = La horquilla\n",
    "Fork = Middlegame[Middlegame['Themes'].str.contains('Fork')]\n",
    "# Pin = El clavado\n",
    "Pin = Middlegame[Middlegame['Themes'].str.contains('Pin')]\n",
    "# Discoveredattack = El ataque descubierto\n",
    "Discoveredattack = Middlegame[Middlegame['Themes'].str.contains('Discoveredattack')]\n",
    "# Skewer = La enfilada\n",
    "Skewer = Middlegame[Middlegame['Themes'].str.contains('Skewer')]\n",
    "# Doublecheck = El jaque doble\n",
    "Doublecheck = Middlegame[Middlegame['Themes'].str.contains('Doublecheck')]\n",
    "# Doublecheck, Fork = El doble ataque\n",
    "Doubleattack = Middlegame[(Middlegame['Themes'].str.contains('Doublecheck')) & (Middlegame['Themes'].str.contains('Fork'))]\n",
    "# Intermezzo = El intermedio\n",
    "Intermezzo = Middlegame[Middlegame['Themes'].str.contains('Intermezzo')]\n",
    "# Smotheredmate = El encerramiento\n",
    "Smotheredmate = Middlegame[Middlegame['Themes'].str.contains('Smotheredmate')]\n",
    "# Xrayattack = El ataque de rayos X\n",
    "Xrayattack = Middlegame[Middlegame['Themes'].str.contains('Xrayattack')]\n",
    "# Matein1, Backrankmate = El mate en 1\n",
    "Matein1 = Middlegame[(Middlegame['Themes'].str.contains('Matein1')) | (Middlegame['Themes'].str.contains('Backrankmate'))]\n",
    "# Matein2 = El mate en 2\n",
    "Matein2 = Middlegame[Middlegame['Themes'].str.contains('Matein2')]\n",
    "# Matein3 = El mate en 3\n",
    "Matein3 = Middlegame[Middlegame['Themes'].str.contains('Matein3')]\n",
    "# Others = Otros\n",
    "Others = Middlegame[~(Middlegame['Themes'].str.contains('Fork|Pin|Discoveredattack|Skewer|Doublecheck|Intermezzo|Smotheredmate|Xrayattack|Matein1|Matein2|Matein3'))]"
   ]
  },
  {
   "cell_type": "code",
   "execution_count": 108,
   "metadata": {},
   "outputs": [
    {
     "name": "stdout",
     "output_type": "stream",
     "text": [
      "Middlegame: 2140815 (46.9786 %)\n",
      "- Fork: 294508 (13.7568 %) -> 6.4628 %\n",
      "- Pin: 172249 (8.046 %) -> 3.7799 %\n",
      "- Discoveredattack: 154356 (7.2102 %) -> 3.3872 %\n",
      "- Skewer: 26091 (1.2187 %) -> 0.5725 %\n",
      "- Doublecheck: 15269 (0.7132 %) -> 0.3351 %\n",
      "- Doubleattack: 1634 (0.0763 %) -> 0.0359 %\n",
      "- Intermezzo: 40201 (1.8778 %) -> 0.8822 %\n",
      "- Smotheredmate: 8761 (0.4092 %) -> 0.1923 %\n",
      "- Xrayattack: 7469 (0.3489 %) -> 0.1639 %\n",
      "- Matein1: 297956 (13.9179 %) -> 6.5384 %\n",
      "- Matein2: 225330 (10.5254 %) -> 4.9447 %\n",
      "- Matein3: 61893 (2.8911 %) -> 1.3582 %\n",
      "- Others: 986467 (46.079 %) -> 21.6473 %\n"
     ]
    }
   ],
   "source": [
    "print(f'Middlegame: {len(Middlegame)} ({round((len(Middlegame) / len(data) * 100), 4)} %)')\n",
    "print(f'- Fork: {len(Fork)} ({round((len(Fork) / len(Middlegame) * 100), 4)} %) -> {round(len(Fork) / len(data) * 100, 4)} %')\n",
    "print(f'- Pin: {len(Pin)} ({round((len(Pin) / len(Middlegame) * 100), 4)} %) -> {round(len(Pin) / len(data) * 100, 4)} %')\n",
    "print(f'- Discoveredattack: {len(Discoveredattack)} ({round((len(Discoveredattack) / len(Middlegame) * 100), 4)} %) -> {round(len(Discoveredattack) / len(data) * 100, 4)} %')\n",
    "print(f'- Skewer: {len(Skewer)} ({round((len(Skewer) / len(Middlegame) * 100), 4)} %) -> {round(len(Skewer) / len(data) * 100, 4)} %')\n",
    "print(f'- Doublecheck: {len(Doublecheck)} ({round((len(Doublecheck) / len(Middlegame) * 100), 4)} %) -> {round(len(Doublecheck) / len(data) * 100, 4)} %')\n",
    "print(f'- Doubleattack: {len(Doubleattack)} ({round((len(Doubleattack) / len(Middlegame) * 100), 4)} %) -> {round(len(Doubleattack) / len(data) * 100, 4)} %')\n",
    "print(f'- Intermezzo: {len(Intermezzo)} ({round((len(Intermezzo) / len(Middlegame) * 100), 4)} %) -> {round(len(Intermezzo) / len(data) * 100, 4)} %')\n",
    "print(f'- Smotheredmate: {len(Smotheredmate)} ({round((len(Smotheredmate) / len(Middlegame) * 100), 4)} %) -> {round(len(Smotheredmate) / len(data) * 100, 4)} %')\n",
    "print(f'- Xrayattack: {len(Xrayattack)} ({round((len(Xrayattack) / len(Middlegame) * 100), 4)} %) -> {round(len(Xrayattack) / len(data) * 100, 4)} %')\n",
    "print(f'- Matein1: {len(Matein1)} ({round((len(Matein1) / len(Middlegame) * 100), 4)} %) -> {round(len(Matein1) / len(data) * 100, 4)} %')\n",
    "print(f'- Matein2: {len(Matein2)} ({round((len(Matein2) / len(Middlegame) * 100), 4)} %) -> {round(len(Matein2) / len(data) * 100, 4)} %')\n",
    "print(f'- Matein3: {len(Matein3)} ({round((len(Matein3) / len(Middlegame) * 100), 4)} %) -> {round(len(Matein3) / len(data) * 100, 4)} %')\n",
    "print(f'- Others: {len(Others)} ({round((len(Others) / len(Middlegame) * 100), 4)} %) -> {round(len(Others) / len(data) * 100, 4)} %')"
   ]
  },
  {
   "cell_type": "code",
   "execution_count": 109,
   "metadata": {},
   "outputs": [],
   "source": [
    "Fork.to_parquet('data/middlegame/Fork.parquet')\n",
    "Pin.to_parquet('data/middlegame/Pin.parquet')\n",
    "Discoveredattack.to_parquet('data/middlegame/Discoveredattack.parquet')\n",
    "Skewer.to_parquet('data/middlegame/Skewer.parquet')\n",
    "Doublecheck.to_parquet('data/middlegame/Doublecheck.parquet')\n",
    "Doubleattack.to_parquet('data/middlegame/Doubleattack.parquet')\n",
    "Intermezzo.to_parquet('data/middlegame/Intermezzo.parquet')\n",
    "Smotheredmate.to_parquet('data/middlegame/Smotheredmate.parquet')\n",
    "Xrayattack.to_parquet('data/middlegame/Xrayattack.parquet')\n",
    "Matein1.to_parquet('data/middlegame/Matein1.parquet')\n",
    "Matein2.to_parquet('data/middlegame/Matein2.parquet')\n",
    "Matein3.to_parquet('data/middlegame/Matein3.parquet')\n",
    "Others.to_parquet('data/middlegame/Others.parquet')"
   ]
  },
  {
   "cell_type": "markdown",
   "metadata": {},
   "source": [
    "## Al final de la partida"
   ]
  },
  {
   "cell_type": "code",
   "execution_count": 110,
   "metadata": {},
   "outputs": [],
   "source": [
    "Endgame = data[data['Themes'].str.contains('Endgame')]\n",
    "# Fork = La horquilla\n",
    "Fork = Endgame[Endgame['Themes'].str.contains('Fork')]\n",
    "# Pin = El clavado\n",
    "Pin = Endgame[Endgame['Themes'].str.contains('Pin')]\n",
    "# Discoveredattack = El ataque descubierto\n",
    "Discoveredattack = Endgame[Endgame['Themes'].str.contains('Discoveredattack')]\n",
    "# Skewer = La enfilada\n",
    "Skewer = Endgame[Endgame['Themes'].str.contains('Skewer')]\n",
    "# Doublecheck = El jaque doble\n",
    "Doublecheck = Endgame[Endgame['Themes'].str.contains('Doublecheck')]\n",
    "# Doublecheck, Fork = El doble ataque\n",
    "Doubleattack = Endgame[(Endgame['Themes'].str.contains('Doublecheck')) & (Endgame['Themes'].str.contains('Fork'))]\n",
    "# Intermezzo = El intermedio\n",
    "Intermezzo = Endgame[Endgame['Themes'].str.contains('Intermezzo')]\n",
    "# Smotheredmate = El encerramiento\n",
    "Smotheredmate = Endgame[Endgame['Themes'].str.contains('Smotheredmate')]\n",
    "# Xrayattack = El ataque de rayos X\n",
    "Xrayattack = Endgame[Endgame['Themes'].str.contains('Xrayattack')]\n",
    "# Matein1, Backrankmate = El mate en 1\n",
    "Matein1 = Endgame[(Endgame['Themes'].str.contains('Matein1')) | (Endgame['Themes'].str.contains('Backrankmate'))]\n",
    "# Matein2 = El mate en 2\n",
    "Matein2 = Endgame[Endgame['Themes'].str.contains('Matein2')]\n",
    "# Matein3 = El mate en 3\n",
    "Matein3 = Endgame[Endgame['Themes'].str.contains('Matein3')]\n",
    "# Others = Otros\n",
    "Others = Endgame[~(Endgame['Themes'].str.contains('Fork|Pin|Discoveredattack|Skewer|Doublecheck|Intermezzo|Smotheredmate|Xrayattack|Matein1|Matein2|Matein3'))]"
   ]
  },
  {
   "cell_type": "code",
   "execution_count": 111,
   "metadata": {},
   "outputs": [
    {
     "name": "stdout",
     "output_type": "stream",
     "text": [
      "Endgame: 2165098 (47.5115 %)\n",
      "- Fork: 286177 (13.2177 %) -> 6.2799 %\n",
      "- Pin: 95277 (4.4006 %) -> 2.0908 %\n",
      "- Discoveredattack: 72692 (3.3574 %) -> 1.5952 %\n",
      "- Skewer: 72186 (3.3341 %) -> 1.5841 %\n",
      "- Doublecheck: 4884 (0.2256 %) -> 0.1072 %\n",
      "- Doubleattack: 735 (0.0339 %) -> 0.0161 %\n",
      "- Intermezzo: 15070 (0.696 %) -> 0.3307 %\n",
      "- Smotheredmate: 2792 (0.129 %) -> 0.0613 %\n",
      "- Xrayattack: 7956 (0.3675 %) -> 0.1746 %\n",
      "- Matein1: 303721 (14.028 %) -> 6.6649 %\n",
      "- Matein2: 308366 (14.2426 %) -> 6.7669 %\n",
      "- Matein3: 68786 (3.177 %) -> 1.5095 %\n",
      "- Others: 1071022 (49.4676 %) -> 23.5028 %\n"
     ]
    }
   ],
   "source": [
    "print(f'Endgame: {len(Endgame)} ({round((len(Endgame) / len(data) * 100), 4)} %)')\n",
    "print(f'- Fork: {len(Fork)} ({round((len(Fork) / len(Endgame) * 100), 4)} %) -> {round(len(Fork) / len(data) * 100, 4)} %')\n",
    "print(f'- Pin: {len(Pin)} ({round((len(Pin) / len(Endgame) * 100), 4)} %) -> {round(len(Pin) / len(data) * 100, 4)} %')\n",
    "print(f'- Discoveredattack: {len(Discoveredattack)} ({round((len(Discoveredattack) / len(Endgame) * 100), 4)} %) -> {round(len(Discoveredattack) / len(data) * 100, 4)} %')\n",
    "print(f'- Skewer: {len(Skewer)} ({round((len(Skewer) / len(Endgame) * 100), 4)} %) -> {round(len(Skewer) / len(data) * 100, 4)} %')\n",
    "print(f'- Doublecheck: {len(Doublecheck)} ({round((len(Doublecheck) / len(Endgame) * 100), 4)} %) -> {round(len(Doublecheck) / len(data) * 100, 4)} %')\n",
    "print(f'- Doubleattack: {len(Doubleattack)} ({round((len(Doubleattack) / len(Endgame) * 100), 4)} %) -> {round(len(Doubleattack) / len(data) * 100, 4)} %')\n",
    "print(f'- Intermezzo: {len(Intermezzo)} ({round((len(Intermezzo) / len(Endgame) * 100), 4)} %) -> {round(len(Intermezzo) / len(data) * 100, 4)} %')\n",
    "print(f'- Smotheredmate: {len(Smotheredmate)} ({round((len(Smotheredmate) / len(Endgame) * 100), 4)} %) -> {round(len(Smotheredmate) / len(data) * 100, 4)} %')\n",
    "print(f'- Xrayattack: {len(Xrayattack)} ({round((len(Xrayattack) / len(Endgame) * 100), 4)} %) -> {round(len(Xrayattack) / len(data) * 100, 4)} %')\n",
    "print(f'- Matein1: {len(Matein1)} ({round((len(Matein1) / len(Endgame) * 100), 4)} %) -> {round(len(Matein1) / len(data) * 100, 4)} %')\n",
    "print(f'- Matein2: {len(Matein2)} ({round((len(Matein2) / len(Endgame) * 100), 4)} %) -> {round(len(Matein2) / len(data) * 100, 4)} %')\n",
    "print(f'- Matein3: {len(Matein3)} ({round((len(Matein3) / len(Endgame) * 100), 4)} %) -> {round(len(Matein3) / len(data) * 100, 4)} %')\n",
    "print(f'- Others: {len(Others)} ({round((len(Others) / len(Endgame) * 100), 4)} %) -> {round(len(Others) / len(data) * 100, 4)} %')"
   ]
  },
  {
   "cell_type": "code",
   "execution_count": 112,
   "metadata": {},
   "outputs": [],
   "source": [
    "Fork.to_parquet('data/endgame/Fork.parquet')\n",
    "Pin.to_parquet('data/endgame/Pin.parquet')\n",
    "Discoveredattack.to_parquet('data/endgame/Discoveredattack.parquet')\n",
    "Skewer.to_parquet('data/endgame/Skewer.parquet')\n",
    "Doublecheck.to_parquet('data/endgame/Doublecheck.parquet')\n",
    "Doubleattack.to_parquet('data/endgame/Doubleattack.parquet')\n",
    "Intermezzo.to_parquet('data/endgame/Intermezzo.parquet')\n",
    "Smotheredmate.to_parquet('data/endgame/Smotheredmate.parquet')\n",
    "Xrayattack.to_parquet('data/endgame/Xrayattack.parquet')\n",
    "Matein1.to_parquet('data/endgame/Matein1.parquet')\n",
    "Matein2.to_parquet('data/endgame/Matein2.parquet')\n",
    "Matein3.to_parquet('data/endgame/Matein3.parquet')\n",
    "Others.to_parquet('data/endgame/Others.parquet')"
   ]
  },
  {
   "cell_type": "markdown",
   "metadata": {},
   "source": [
    "## Tacticas en momentos generales de la partida"
   ]
  },
  {
   "cell_type": "code",
   "execution_count": 113,
   "metadata": {},
   "outputs": [],
   "source": [
    "GeneralMoments = data[~(data['Themes'].str.contains('Opening|Middlegame|Endgame'))]\n",
    "# Fork = La horquilla\n",
    "Fork = GeneralMoments[GeneralMoments['Themes'].str.contains('Fork')]\n",
    "# Pin = El clavado\n",
    "Pin = GeneralMoments[GeneralMoments['Themes'].str.contains('Pin')]\n",
    "# Discoveredattack = El ataque descubierto\n",
    "Discoveredattack = GeneralMoments[GeneralMoments['Themes'].str.contains('Discoveredattack')]\n",
    "# Skewer = La enfilada\n",
    "Skewer = GeneralMoments[GeneralMoments['Themes'].str.contains('Skewer')]\n",
    "# Doublecheck = El jaque doble\n",
    "Doublecheck = GeneralMoments[GeneralMoments['Themes'].str.contains('Doublecheck')]\n",
    "# Doublecheck, Fork = El doble ataque\n",
    "Doubleattack = GeneralMoments[(GeneralMoments['Themes'].str.contains('Doublecheck')) & (GeneralMoments['Themes'].str.contains('Fork'))]\n",
    "# Intermezzo = El intermedio\n",
    "Intermezzo = GeneralMoments[GeneralMoments['Themes'].str.contains('Intermezzo')]\n",
    "# Smotheredmate = El encerramiento\n",
    "Smotheredmate = GeneralMoments[GeneralMoments['Themes'].str.contains('Smotheredmate')]\n",
    "# Xrayattack = El ataque de rayos X\n",
    "Xrayattack = GeneralMoments[GeneralMoments['Themes'].str.contains('Xrayattack')]\n",
    "# Matein1, Backrankmate = El mate en 1\n",
    "Matein1 = GeneralMoments[(GeneralMoments['Themes'].str.contains('Matein1')) | (GeneralMoments['Themes'].str.contains('Backrankmate'))]\n",
    "# Matein2 = El mate en 2\n",
    "Matein2 = GeneralMoments[GeneralMoments['Themes'].str.contains('Matein2')]\n",
    "# Matein3 = El mate en 3\n",
    "Matein3 = GeneralMoments[GeneralMoments['Themes'].str.contains('Matein3')]\n",
    "# Others = Otros\n",
    "Others = GeneralMoments[~(GeneralMoments['Themes'].str.contains('Fork|Pin|Discoveredattack|Skewer|Doublecheck|Intermezzo|Smotheredmate|Xrayattack|Matein1|Matein2|Matein3'))]"
   ]
  },
  {
   "cell_type": "code",
   "execution_count": 114,
   "metadata": {},
   "outputs": [
    {
     "name": "stdout",
     "output_type": "stream",
     "text": [
      "GeneralMoments: 3896 (0.0855 %)\n",
      "- Fork: 491 (12.6027 %) -> 0.0108 %\n",
      "- Pin: 212 (5.4415 %) -> 0.0047 %\n",
      "- Discoveredattack: 192 (4.9281 %) -> 0.0042 %\n",
      "- Skewer: 92 (2.3614 %) -> 0.002 %\n",
      "- Doublecheck: 28 (0.7187 %) -> 0.0006 %\n",
      "- Doubleattack: 3 (0.077 %) -> 0.0001 %\n",
      "- Intermezzo: 40 (1.0267 %) -> 0.0009 %\n",
      "- Smotheredmate: 18 (0.462 %) -> 0.0004 %\n",
      "- Xrayattack: 15 (0.385 %) -> 0.0003 %\n",
      "- Matein1: 931 (23.8963 %) -> 0.0204 %\n",
      "- Matein2: 553 (14.194 %) -> 0.0121 %\n",
      "- Matein3: 108 (2.7721 %) -> 0.0024 %\n",
      "- Others: 1548 (39.7331 %) -> 0.034 %\n"
     ]
    }
   ],
   "source": [
    "print(f'GeneralMoments: {len(GeneralMoments)} ({round((len(GeneralMoments) / len(data) * 100), 4)} %)')\n",
    "print(f'- Fork: {len(Fork)} ({round((len(Fork) / len(GeneralMoments) * 100), 4)} %) -> {round(len(Fork) / len(data) * 100, 4)} %')\n",
    "print(f'- Pin: {len(Pin)} ({round((len(Pin) / len(GeneralMoments) * 100), 4)} %) -> {round(len(Pin) / len(data) * 100, 4)} %')\n",
    "print(f'- Discoveredattack: {len(Discoveredattack)} ({round((len(Discoveredattack) / len(GeneralMoments) * 100), 4)} %) -> {round(len(Discoveredattack) / len(data) * 100, 4)} %')\n",
    "print(f'- Skewer: {len(Skewer)} ({round((len(Skewer) / len(GeneralMoments) * 100), 4)} %) -> {round(len(Skewer) / len(data) * 100, 4)} %')\n",
    "print(f'- Doublecheck: {len(Doublecheck)} ({round((len(Doublecheck) / len(GeneralMoments) * 100), 4)} %) -> {round(len(Doublecheck) / len(data) * 100, 4)} %')\n",
    "print(f'- Doubleattack: {len(Doubleattack)} ({round((len(Doubleattack) / len(GeneralMoments) * 100), 4)} %) -> {round(len(Doubleattack) / len(data) * 100, 4)} %')\n",
    "print(f'- Intermezzo: {len(Intermezzo)} ({round((len(Intermezzo) / len(GeneralMoments) * 100), 4)} %) -> {round(len(Intermezzo) / len(data) * 100, 4)} %')\n",
    "print(f'- Smotheredmate: {len(Smotheredmate)} ({round((len(Smotheredmate) / len(GeneralMoments) * 100), 4)} %) -> {round(len(Smotheredmate) / len(data) * 100, 4)} %')\n",
    "print(f'- Xrayattack: {len(Xrayattack)} ({round((len(Xrayattack) / len(GeneralMoments) * 100), 4)} %) -> {round(len(Xrayattack) / len(data) * 100, 4)} %')\n",
    "print(f'- Matein1: {len(Matein1)} ({round((len(Matein1) / len(GeneralMoments) * 100), 4)} %) -> {round(len(Matein1) / len(data) * 100, 4)} %')\n",
    "print(f'- Matein2: {len(Matein2)} ({round((len(Matein2) / len(GeneralMoments) * 100), 4)} %) -> {round(len(Matein2) / len(data) * 100, 4)} %')\n",
    "print(f'- Matein3: {len(Matein3)} ({round((len(Matein3) / len(GeneralMoments) * 100), 4)} %) -> {round(len(Matein3) / len(data) * 100, 4)} %')\n",
    "print(f'- Others: {len(Others)} ({round((len(Others) / len(GeneralMoments) * 100), 4)} %) -> {round(len(Others) / len(data) * 100, 4)} %')"
   ]
  },
  {
   "cell_type": "code",
   "execution_count": 115,
   "metadata": {},
   "outputs": [],
   "source": [
    "Fork.to_parquet('data/general_moments/Fork.parquet')\n",
    "Pin.to_parquet('data/general_moments/Pin.parquet')\n",
    "Discoveredattack.to_parquet('data/general_moments/Discoveredattack.parquet')\n",
    "Skewer.to_parquet('data/general_moments/Skewer.parquet')\n",
    "Doublecheck.to_parquet('data/general_moments/Doublecheck.parquet')\n",
    "Doubleattack.to_parquet('data/general_moments/Doubleattack.parquet')\n",
    "Intermezzo.to_parquet('data/general_moments/Intermezzo.parquet')\n",
    "Smotheredmate.to_parquet('data/general_moments/Smotheredmate.parquet')\n",
    "Xrayattack.to_parquet('data/general_moments/Xrayattack.parquet')\n",
    "Matein1.to_parquet('data/general_moments/Matein1.parquet')\n",
    "Matein2.to_parquet('data/general_moments/Matein2.parquet')\n",
    "Matein3.to_parquet('data/general_moments/Matein3.parquet')\n",
    "Others.to_parquet('data/general_moments/Others.parquet')"
   ]
  },
  {
   "cell_type": "code",
   "execution_count": null,
   "metadata": {},
   "outputs": [],
   "source": []
  }
 ],
 "metadata": {
  "kernelspec": {
   "display_name": ".venv",
   "language": "python",
   "name": "python3"
  },
  "language_info": {
   "codemirror_mode": {
    "name": "ipython",
    "version": 3
   },
   "file_extension": ".py",
   "mimetype": "text/x-python",
   "name": "python",
   "nbconvert_exporter": "python",
   "pygments_lexer": "ipython3",
   "version": "3.11.9"
  }
 },
 "nbformat": 4,
 "nbformat_minor": 2
}
